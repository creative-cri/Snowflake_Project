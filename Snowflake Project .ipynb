{
 "cells": [
  {
   "cell_type": "markdown",
   "id": "a9a00973",
   "metadata": {},
   "source": [
    "# Snowflake Project: Exploring London's Travel Network"
   ]
  },
  {
   "cell_type": "markdown",
   "id": "5e8ae7bc",
   "metadata": {},
   "source": [
    "### Project Instructions\n",
    "\n",
    "Write three SQL queries to answer the following questions:\n",
    "\n",
    "1) What are the most popular transport types, measured by the total number of journeys? The output should contain two columns, 1)JOURNEY_TYPE and 2) TOTAL_JOURNEYS_MILLIONS, and be sorted by the second column in descending order. Save the query as most_popular_transport_types.\n",
    "\n",
    "2) Which five months and years were the most popular for the Emirates Airline? Return an output containing MONTH, YEAR, and JOURNEYS_MILLIONS, with the latter rounded to two decimal places and aliased as ROUNDED_JOURNEYS_MILLIONS. Exclude null values and save the result as emirates_airline_popularity.\n",
    "\n",
    "3) Find the five years with the lowest volume of Underground & DLR journeys, saving as least_popular_years_tube. The results should contain the columns YEAR, JOURNEY_TYPE, and TOTAL_JOURNEYS_MILLIONS.\n",
    "\n",
    "4) Three SQL cells have been created for you in the workbook. To access the Snowflake database, you will need to select data using the syntax FROM TFL.JOURNEYS (ensure you use upper-case).\n",
    "\n",
    "Note: Please also ensure that you do not change the names of the DataFrames that the three query results will be saved as - creating new cells in the workbook will rename the DataFrame (see image below). Make sure that your final solutions use the names provided: most_popular_transport_types, emirates_airline_popularity, and least_popular_years_tube."
   ]
  },
  {
   "cell_type": "markdown",
   "id": "9ce0783c",
   "metadata": {},
   "source": [
    "<img src = \"london.jpg\">"
   ]
  },
  {
   "cell_type": "markdown",
   "id": "80c8cee5",
   "metadata": {},
   "source": [
    "London, or as the Romans called it \"Londonium\"! Home to over 8.5 million residents who speak over 300 languages. While the City of London is a little over one square mile (hence its nickname \"The Square Mile\"), Greater London has grown to encompass 32 boroughs spanning a total area of 606 square miles!"
   ]
  },
  {
   "cell_type": "markdown",
   "id": "46f6e5e7",
   "metadata": {},
   "source": [
    "<img src = \"tube.jpg\">"
   ]
  },
  {
   "cell_type": "markdown",
   "id": "6be68f30",
   "metadata": {},
   "source": [
    "Given the city's roads were originally designed for horse and cart, this area and population growth has required the development of an efficient public transport system! Since the year 2000, this has been through the local government body called Transport for London, or TfL, which is managed by the London Mayor's office. Their remit covers the London Underground, Overground, Docklands Light Railway (DLR), buses, trams, river services (clipper and Emirates Airline cable car), roads, and even taxis.\n",
    "\n",
    "The Mayor of London's office make their data available to the public: https://data.london.gov.uk/dataset. In this project, you will work with a slightly modified version of a dataset containing information about public transport journey volume by transport type.\n",
    "\n",
    "# The data has been loaded into a Snowflake database called TFL with a single table called JOURNEYS, including the following data:"
   ]
  },
  {
   "cell_type": "markdown",
   "id": "22ea25b0",
   "metadata": {},
   "source": [
    "<img src = \"new.JPG\">"
   ]
  },
  {
   "cell_type": "markdown",
   "id": "9c111a5d",
   "metadata": {},
   "source": [
    "<img src = \"new2.JPG\">"
   ]
  },
  {
   "cell_type": "markdown",
   "id": "891e72ef",
   "metadata": {},
   "source": [
    "## Task 1. What are the most popular transport types, measured by the total number of journeys? The output should contain two columns, 1) JOURNEY_TYPE and 2) TOTAL_JOURNEYS_MILLIONS, and be sorted by the second column in descending order. Save the query as most_popular_transport_types. "
   ]
  },
  {
   "cell_type": "code",
   "execution_count": null,
   "id": "8e0f7b98",
   "metadata": {},
   "outputs": [],
   "source": [
    "### most_popular_transport_types\n",
    "SELECT JOURNEY_TYPE, \n",
    "\tSUM(JOURNEYS_MILLIONS) as TOTAL_JOURNEYS_MILLIONS\n",
    "FROM TFL.JOURNEYS\n",
    "GROUP BY JOURNEY_TYPE\n",
    "ORDER BY TOTAL_JOURNEYS_MILLIONS DESC;"
   ]
  },
  {
   "cell_type": "markdown",
   "id": "63148ce6",
   "metadata": {},
   "source": [
    "<img src = \"1.JPG\">"
   ]
  },
  {
   "cell_type": "markdown",
   "id": "05980e2f",
   "metadata": {},
   "source": [
    "## Task 2. Which five months and years were the most popular for the Emirates Airline? Return an output containing MONTH, YEAR, and JOURNEYS_MILLIONS, with the latter rounded to two decimal places and aliased as ROUNDED_JOURNEYS_MILLIONS. Exclude null values and save the result as emirates_airline_popularity."
   ]
  },
  {
   "cell_type": "code",
   "execution_count": null,
   "id": "0b5344ab",
   "metadata": {},
   "outputs": [],
   "source": [
    "### emirates_airline_popularity\n",
    "SELECT MONTH, YEAR, ROUND(JOURNEYS_MILLIONS,2) AS ROUNDED_JOURNEYS_MILLIONS\n",
    "FROM TFL.JOURNEYS\n",
    "WHERE JOURNEY_TYPE = 'Emirates Airline' AND ROUNDED_JOURNEYS_MILLIONS IS NOT NULL\n",
    "ORDER BY ROUNDED_JOURNEYS_MILLIONS DESC\n",
    "LIMIT 5;"
   ]
  },
  {
   "cell_type": "markdown",
   "id": "be0dc5f4",
   "metadata": {},
   "source": [
    "<img src = \"2.JPG\">"
   ]
  },
  {
   "cell_type": "markdown",
   "id": "18c796c1",
   "metadata": {},
   "source": [
    "## Task 3. Find the five years with the lowest volume of Underground & DLR journeys, saving as least_popular_years_tube. The results should contain the columns YEAR, JOURNEY_TYPE, and TOTAL_JOURNEYS_MILLIONS."
   ]
  },
  {
   "cell_type": "code",
   "execution_count": null,
   "id": "c602c7ae",
   "metadata": {},
   "outputs": [],
   "source": [
    "### least_popular_years_tube\n",
    "SELECT YEAR,\n",
    "\tJOURNEY_TYPE,\n",
    "\tSUM(JOURNEYS_MILLIONS) as TOTAL_JOURNEYS_MILLIONS\n",
    "FROM TFL.JOURNEYS\n",
    "WHERE JOURNEY_TYPE LIKE '%Underground%'\n",
    "GROUP BY YEAR, JOURNEY_TYPE\n",
    "ORDER BY TOTAL_JOURNEYS_MILLIONS\n",
    "LIMIT 5;"
   ]
  },
  {
   "cell_type": "markdown",
   "id": "0b0919f3",
   "metadata": {},
   "source": [
    "<img src = \"3.JPG\">"
   ]
  }
 ],
 "metadata": {
  "kernelspec": {
   "display_name": "Python 3 (ipykernel)",
   "language": "python",
   "name": "python3"
  },
  "language_info": {
   "codemirror_mode": {
    "name": "ipython",
    "version": 3
   },
   "file_extension": ".py",
   "mimetype": "text/x-python",
   "name": "python",
   "nbconvert_exporter": "python",
   "pygments_lexer": "ipython3",
   "version": "3.9.7"
  }
 },
 "nbformat": 4,
 "nbformat_minor": 5
}
